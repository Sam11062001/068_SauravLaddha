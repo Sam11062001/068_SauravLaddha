{
 "cells": [
  {
   "cell_type": "code",
   "execution_count": 5,
   "id": "2e1b3f6a-38ff-437a-9d62-977e314db951",
   "metadata": {},
   "outputs": [
    {
     "name": "stdout",
     "output_type": "stream",
     "text": [
      "C:\\Users\\LENOVO\\Machine-Learning Sem-7\\Lab-03\n"
     ]
    }
   ],
   "source": [
    "from sklearn import preprocessing\n",
    "from sklearn.naive_bayes import GaussianNB, MultinomialNB\n",
    "from sklearn.model_selection import train_test_split\n",
    "import csv\n",
    "import os\n",
    "path=os.getcwd()\n",
    "print(path)"
   ]
  },
  {
   "cell_type": "code",
   "execution_count": 6,
   "id": "b826ac83-7030-4552-b9ba-c0d2079b55e0",
   "metadata": {},
   "outputs": [
    {
     "name": "stdout",
     "output_type": "stream",
     "text": [
      "['R', 'R', 'O', 'S', 'S', 'S', 'O', 'R', 'R', 'S', 'R', 'O', 'O', 'S']\n",
      "['H', 'H', 'H', 'M', 'M', 'M', 'C', 'C', 'C', 'M', 'M', 'M', 'H', 'M']\n",
      "['F', 'T', 'F', 'F', 'F', 'T', 'T', 'F', 'F', 'F', 'T', 'T', 'F', 'T']\n",
      "['Normal', 'High', 'Normal', 'Normal', 'Normal', 'Low', 'Normal', 'Normal', 'Low', 'High', 'High', 'Low', 'Normal', 'Normal']\n",
      "['N', 'N', 'Y', 'N', 'Y', 'Y', 'Y', 'Y', 'Y', 'Y', 'Y', 'Y', 'Y', 'N']\n"
     ]
    }
   ],
   "source": [
    "Outlook=[]\n",
    "Temp=[]\n",
    "Wind=[]\n",
    "Humidity=[] \n",
    "Label=[]\n",
    "\n",
    "with open(r\"C:\\Users\\LENOVO\\Machine-Learning Sem-7\\Lab-03\\Dataset2.csv\", 'r') as csvfile:\n",
    "    reader = csv.reader(csvfile, delimiter=',')\n",
    "    next(reader)\n",
    "    for row in reader:\n",
    "        Outlook.append(row[0])\n",
    "        Temp.append(row[1])\n",
    "        Wind.append(row[2])\n",
    "        Humidity.append(row[3])\n",
    "        Label.append(row[4])\n",
    "\n",
    "print(Outlook)\n",
    "print(Temp)\n",
    "print(Wind)\n",
    "print(Humidity)\n",
    "print(Label)\n",
    "\n"
   ]
  },
  {
   "cell_type": "code",
   "execution_count": 7,
   "id": "7ca783c1-65b0-4c94-beeb-a50ad90740d2",
   "metadata": {},
   "outputs": [
    {
     "name": "stdout",
     "output_type": "stream",
     "text": [
      "[1 1 0 2 2 2 0 1 1 2 1 0 0 2]\n",
      "[1 1 1 2 2 2 0 0 0 2 2 2 1 2]\n",
      "[0 1 0 0 0 1 1 0 0 0 1 1 0 1]\n",
      "[2 0 2 2 2 1 2 2 1 0 0 1 2 2]\n",
      "[0 0 1 0 1 1 1 1 1 1 1 1 1 0]\n"
     ]
    }
   ],
   "source": [
    "#creating label encoder\n",
    "le = preprocessing.LabelEncoder()\n",
    "encoded_Outlook=le.fit_transform(Outlook)\n",
    "encoded_Temp=le.fit_transform(Temp)\n",
    "encoded_Wind=le.fit_transform(Wind)\n",
    "encoded_Humidity=le.fit_transform(Humidity)\n",
    "encoded_Label=le.fit_transform(Label)\n",
    "\n",
    "print(encoded_Outlook)\n",
    "print(encoded_Temp)\n",
    "print(encoded_Wind)\n",
    "print(encoded_Humidity)\n",
    "print(encoded_Label)"
   ]
  },
  {
   "cell_type": "code",
   "execution_count": 8,
   "id": "08990199-aaa4-4511-9339-d77910ab0743",
   "metadata": {},
   "outputs": [
    {
     "name": "stdout",
     "output_type": "stream",
     "text": [
      "((1, 1, 0, 2), (1, 1, 1, 0), (0, 1, 0, 2), (2, 2, 0, 2), (2, 2, 0, 2), (2, 2, 1, 1), (0, 0, 1, 2), (1, 0, 0, 2), (1, 0, 0, 1), (2, 2, 0, 0), (1, 2, 1, 0), (0, 2, 1, 1), (0, 1, 0, 2), (2, 2, 1, 2))\n"
     ]
    }
   ],
   "source": [
    "#Combinig Outlook,temp,wind,humidity into single listof tuples\n",
    "features=tuple(zip(encoded_Outlook,encoded_Temp,encoded_Wind,encoded_Humidity,))\n",
    "print(features)"
   ]
  },
  {
   "cell_type": "code",
   "execution_count": 42,
   "id": "d5e0f502-8d8d-44d7-ae0b-cf45c6995ba6",
   "metadata": {},
   "outputs": [],
   "source": [
    "#split data set into train and test sets\n",
    "data_train, data_test, target_train, target_test = train_test_split(features,\n",
    "                        encoded_Label, test_size = 0.10, random_state = 68)"
   ]
  },
  {
   "cell_type": "code",
   "execution_count": 43,
   "id": "e1d44a54-72b3-4604-84c1-0e09d1025d6d",
   "metadata": {},
   "outputs": [],
   "source": [
    "import numpy as np\n",
    "gnb = GaussianNB()\n",
    "\n",
    "#Train the model using the training sets\n",
    "gnb.fit(data_train, target_train)\n",
    "\n",
    "#Predict the response for test dataset\n",
    "target_pred = gnb.predict(data_test)"
   ]
  },
  {
   "cell_type": "code",
   "execution_count": 44,
   "id": "3f11d90a-41f7-4c49-ae52-0619c0b07668",
   "metadata": {},
   "outputs": [
    {
     "name": "stdout",
     "output_type": "stream",
     "text": [
      "Accuracy: 0.0\n"
     ]
    }
   ],
   "source": [
    "#Import scikit-learn metrics module for accuracy calculation\n",
    "from sklearn import metrics\n",
    "\n",
    "# Model Accuracy, how often is the classifier correct?\n",
    "print(\"Accuracy:\",metrics.accuracy_score(target_test, target_pred))"
   ]
  },
  {
   "cell_type": "code",
   "execution_count": 45,
   "id": "45af6382-11f9-4571-bbab-028fdf7dd259",
   "metadata": {},
   "outputs": [
    {
     "data": {
      "text/plain": [
       "array([[0, 2],\n",
       "       [0, 0]], dtype=int64)"
      ]
     },
     "execution_count": 45,
     "metadata": {},
     "output_type": "execute_result"
    }
   ],
   "source": [
    "#Import confusion_matrix from scikit-learn metrics module for confusion_matrix\n",
    "from sklearn.metrics import confusion_matrix\n",
    "confusion_matrix(target_test, target_pred)"
   ]
  },
  {
   "cell_type": "code",
   "execution_count": 46,
   "id": "60b30708-57bb-466f-b18b-31a6e9cf87e4",
   "metadata": {},
   "outputs": [
    {
     "name": "stdout",
     "output_type": "stream",
     "text": [
      "Predicted Value: [0]\n"
     ]
    }
   ],
   "source": [
    "#Answer to the question for Task-1\n",
    "\n",
    "#Question-1:What will be the value of Play, if Outlook is ’Rainy’, Temperature is ’Mild’, Humidity =’Normal’, and Wind = ’False’?\n",
    "\n",
    "#Predict Output\n",
    "predicted= gnb.predict([[1,2,0,2]]) # 1:Rainy 2:Mild 0:False  2:Normal\n",
    "print(\"Predicted Value:\", predicted)"
   ]
  },
  {
   "cell_type": "code",
   "execution_count": 47,
   "id": "2a2eb698-6656-48b3-8cbe-7b558b6fd35f",
   "metadata": {},
   "outputs": [
    {
     "name": "stdout",
     "output_type": "stream",
     "text": [
      "Predicted Value: [1]\n"
     ]
    }
   ],
   "source": [
    "#Question-2:What will be the value of Play, if Outlook is ’Sunny’, Temeprature is ’Cool’, Humidity =’High’, and Wind = ’True’?\n",
    "#Predict Output\n",
    "predicted= gnb.predict([[2,0,1,0]]) # 2:Sunny 0:Cool  1:True  2:Humidity\n",
    "print(\"Predicted Value:\", predicted)\n"
   ]
  },
  {
   "cell_type": "code",
   "execution_count": 41,
   "id": "f449eb0c-c6fb-4058-8a60-55fd87820483",
   "metadata": {},
   "outputs": [
    {
     "name": "stdout",
     "output_type": "stream",
     "text": [
      "precision: 0.0\n",
      "recall: 0.0\n"
     ]
    },
    {
     "name": "stderr",
     "output_type": "stream",
     "text": [
      "C:\\Users\\LENOVO\\AppData\\Local\\Packages\\PythonSoftwareFoundation.Python.3.9_qbz5n2kfra8p0\\LocalCache\\local-packages\\Python39\\site-packages\\sklearn\\metrics\\_classification.py:1248: UndefinedMetricWarning: Recall is ill-defined and being set to 0.0 due to no true samples. Use `zero_division` parameter to control this behavior.\n",
      "  _warn_prf(average, modifier, msg_start, len(result))\n"
     ]
    }
   ],
   "source": [
    "#Question-3:Precession and Recall of the model\n",
    "\n",
    "from sklearn.metrics import precision_score\n",
    "from sklearn.metrics import recall_score\n",
    "\n",
    "precision = precision_score(target_test, target_pred)\n",
    "recall = recall_score(target_test, target_pred)\n",
    "\n",
    "print('precision: {}'.format(precision))\n",
    "print('recall: {}'.format(recall))"
   ]
  },
  {
   "cell_type": "code",
   "execution_count": null,
   "id": "697b766b-b4c8-427d-8918-d8e18e8ebade",
   "metadata": {},
   "outputs": [],
   "source": []
  }
 ],
 "metadata": {
  "kernelspec": {
   "display_name": "Python 3 (ipykernel)",
   "language": "python",
   "name": "python3"
  },
  "language_info": {
   "codemirror_mode": {
    "name": "ipython",
    "version": 3
   },
   "file_extension": ".py",
   "mimetype": "text/x-python",
   "name": "python",
   "nbconvert_exporter": "python",
   "pygments_lexer": "ipython3",
   "version": "3.9.7"
  }
 },
 "nbformat": 4,
 "nbformat_minor": 5
}
