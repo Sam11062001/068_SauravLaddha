{
 "cells": [
  {
   "cell_type": "code",
   "execution_count": 2,
   "id": "44fd0b18-5ad3-4141-b88c-336c558a62ee",
   "metadata": {},
   "outputs": [],
   "source": [
    "# evaluate logistic regression on the breast cancer dataset with an one-hot encoding\n",
    "from numpy import mean\n",
    "from numpy import std\n",
    "from pandas import read_csv\n",
    "from sklearn.model_selection import train_test_split\n",
    "from sklearn.linear_model import LogisticRegression\n",
    "from sklearn.preprocessing import LabelEncoder\n",
    "from sklearn.preprocessing import OneHotEncoder\n",
    "from sklearn.metrics import accuracy_score"
   ]
  },
  {
   "cell_type": "code",
   "execution_count": 3,
   "id": "683faf9d-aa9d-4a8e-bc5a-761c499d1c83",
   "metadata": {},
   "outputs": [
    {
     "name": "stdout",
     "output_type": "stream",
     "text": [
      "Input: (286, 9)\n",
      "Output: (286,)\n"
     ]
    }
   ],
   "source": [
    "# define the location of the dataset\n",
    "url = \"https://raw.githubusercontent.com/jbrownlee/Datasets/master/breast-cancer.csv\"\n",
    "# load the dataset\n",
    "dataset = read_csv(url, header=None)\n",
    "# retrieve the array of data\n",
    "data = dataset.values\n",
    "# separate into input and output columns\n",
    "X = data[:, :-1].astype(str)\n",
    "y = data[:, -1].astype(str)\n",
    "\n",
    "print('Input:',X.shape)\n",
    "print('Output:',y.shape)"
   ]
  },
  {
   "cell_type": "code",
   "execution_count": 4,
   "id": "a4cba8e1-4d29-48fa-b813-328c2c86cac9",
   "metadata": {},
   "outputs": [
    {
     "name": "stdout",
     "output_type": "stream",
     "text": [
      "[[\"'30-39'\" \"'premeno'\" \"'20-24'\" ... \"'left'\" \"'left_low'\" \"'no'\"]\n",
      " [\"'50-59'\" \"'premeno'\" \"'25-29'\" ... \"'left'\" \"'left_up'\" \"'no'\"]\n",
      " [\"'60-69'\" \"'ge40'\" \"'30-34'\" ... \"'right'\" \"'central'\" \"'no'\"]\n",
      " ...\n",
      " [\"'30-39'\" \"'premeno'\" \"'30-34'\" ... \"'right'\" \"'left_up'\" \"'yes'\"]\n",
      " [\"'50-59'\" \"'lt40'\" \"'15-19'\" ... \"'left'\" \"'left_low'\" \"'no'\"]\n",
      " [\"'40-49'\" \"'premeno'\" \"'10-14'\" ... \"'left'\" \"'left_low'\" \"'yes'\"]]\n",
      "[[\"'50-59'\" \"'premeno'\" \"'20-24'\" ... \"'left'\" \"'left_low'\" \"'no'\"]\n",
      " [\"'40-49'\" \"'premeno'\" \"'30-34'\" ... \"'left'\" \"'left_up'\" \"'yes'\"]\n",
      " [\"'50-59'\" \"'premeno'\" \"'25-29'\" ... \"'right'\" \"'left_up'\" \"'no'\"]\n",
      " ...\n",
      " [\"'60-69'\" \"'ge40'\" \"'10-14'\" ... \"'right'\" \"'left_up'\" \"'yes'\"]\n",
      " [\"'40-49'\" \"'premeno'\" \"'5-9'\" ... \"'left'\" \"'left_low'\" \"'yes'\"]\n",
      " [\"'50-59'\" \"'premeno'\" \"'30-34'\" ... \"'left'\" \"'central'\" \"'no'\"]]\n"
     ]
    }
   ],
   "source": [
    "# split the dataset into train and test sets\n",
    "#ID:18CLUOG011\n",
    "X_train, X_test, y_train, y_test = train_test_split(X, y, test_size=0.40, random_state=11)\n",
    "print(X_train)\n",
    "print(X_test)"
   ]
  },
  {
   "cell_type": "code",
   "execution_count": 5,
   "id": "2928f043-d0b5-4e5c-b9de-dd2e9b55c5a4",
   "metadata": {},
   "outputs": [],
   "source": [
    "# one-hot encode input variables\n",
    "onehot_encoder = OneHotEncoder(sparse=False,handle_unknown='ignore')\n",
    "onehot_encoder.fit(X_train)\n",
    "X_train = onehot_encoder.transform(X_train)\n",
    "X_test = onehot_encoder.transform(X_test)\n",
    "\n",
    "# ordinal encode target variable\n",
    "label_encoder = LabelEncoder()\n",
    "label_encoder.fit(y_train)\n",
    "y_train = label_encoder.transform(y_train)\n",
    "y_test = label_encoder.transform(y_test)\n",
    "\n"
   ]
  },
  {
   "cell_type": "code",
   "execution_count": 6,
   "id": "096bf4f4-febd-4c99-9f53-83c6694e3d50",
   "metadata": {},
   "outputs": [
    {
     "name": "stdout",
     "output_type": "stream",
     "text": [
      "0.6608695652173913\n"
     ]
    }
   ],
   "source": [
    "from sklearn import preprocessing\n",
    "from sklearn.tree import DecisionTreeClassifier\n",
    "#Import scikit-learn metrics module for accuracy calculation\n",
    "from sklearn.metrics  import accuracy_score\n",
    "#Create a Decision Tree Classifier (using Entropy)\n",
    "clf_entropy=DecisionTreeClassifier(criterion=\"entropy\")\n",
    "\n",
    "# Train the model using the training sets\n",
    "clf_entropy.fit(X_train, y_train)\n",
    "pred_test = clf_entropy.predict(X_test)\n",
    "acc= accuracy_score(y_test, pred_test)\n",
    "print(acc)\n"
   ]
  },
  {
   "cell_type": "code",
   "execution_count": 7,
   "id": "515cff8a-1b32-477b-8703-d8633e01ea54",
   "metadata": {},
   "outputs": [
    {
     "name": "stdout",
     "output_type": "stream",
     "text": [
      "precision: 0.46511627906976744\n",
      "recall: 0.5555555555555556\n"
     ]
    }
   ],
   "source": [
    "#Question-3:Precession and Recall of the model\n",
    "\n",
    "from sklearn.metrics import precision_score\n",
    "from sklearn.metrics import recall_score\n",
    "\n",
    "precision = precision_score(y_test, pred_test)\n",
    "recall = recall_score(y_test, pred_test)\n",
    "\n",
    "print('precision: {}'.format(precision))\n",
    "print('recall: {}'.format(recall))"
   ]
  },
  {
   "cell_type": "code",
   "execution_count": null,
   "id": "bcd28fe7-a1e7-4e9b-badf-03275f9fee70",
   "metadata": {},
   "outputs": [],
   "source": []
  }
 ],
 "metadata": {
  "kernelspec": {
   "display_name": "Python 3 (ipykernel)",
   "language": "python",
   "name": "python3"
  },
  "language_info": {
   "codemirror_mode": {
    "name": "ipython",
    "version": 3
   },
   "file_extension": ".py",
   "mimetype": "text/x-python",
   "name": "python",
   "nbconvert_exporter": "python",
   "pygments_lexer": "ipython3",
   "version": "3.9.7"
  }
 },
 "nbformat": 4,
 "nbformat_minor": 5
}
