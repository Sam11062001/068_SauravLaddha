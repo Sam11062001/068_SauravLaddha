{
 "cells": [
  {
   "cell_type": "code",
   "execution_count": 1,
   "id": "c1d82867-d267-4144-9407-80f598029549",
   "metadata": {},
   "outputs": [
    {
     "name": "stdout",
     "output_type": "stream",
     "text": [
      "C:\\Users\\LENOVO\\Machine-Learning Sem-7\\Lab-04\n"
     ]
    }
   ],
   "source": [
    "from sklearn import preprocessing\n",
    "from sklearn.naive_bayes import GaussianNB, MultinomialNB\n",
    "from sklearn.model_selection import train_test_split\n",
    "import csv\n",
    "import os\n",
    "path=os.getcwd()\n",
    "print(path)"
   ]
  },
  {
   "cell_type": "code",
   "execution_count": 2,
   "id": "08b5fda1-79a3-42e6-8a24-6c141588ae4c",
   "metadata": {},
   "outputs": [
    {
     "name": "stdout",
     "output_type": "stream",
     "text": [
      "['R', 'R', 'O', 'S', 'S', 'S', 'O', 'R', 'R', 'S', 'R', 'O', 'O', 'S']\n",
      "['H', 'H', 'H', 'M', 'M', 'M', 'C', 'C', 'C', 'M', 'M', 'M', 'H', 'M']\n",
      "['F', 'T', 'F', 'F', 'F', 'T', 'T', 'F', 'F', 'F', 'T', 'T', 'F', 'T']\n",
      "['Normal', 'High', 'Normal', 'Normal', 'Normal', 'Low', 'Normal', 'Normal', 'Low', 'High', 'High', 'Low', 'Normal', 'Normal']\n",
      "['N', 'N', 'Y', 'N', 'Y', 'Y', 'Y', 'Y', 'Y', 'Y', 'Y', 'Y', 'Y', 'N']\n"
     ]
    }
   ],
   "source": [
    "Outlook=[]\n",
    "Temp=[]\n",
    "Wind=[]\n",
    "Humidity=[] \n",
    "Label=[]\n",
    "\n",
    "with open(r\"C:\\Users\\LENOVO\\Machine-Learning Sem-7\\Lab-03\\Dataset2.csv\", 'r') as csvfile:\n",
    "    reader = csv.reader(csvfile, delimiter=',')\n",
    "    next(reader)\n",
    "    for row in reader:\n",
    "        Outlook.append(row[0])\n",
    "        Temp.append(row[1])\n",
    "        Wind.append(row[2])\n",
    "        Humidity.append(row[3])\n",
    "        Label.append(row[4])\n",
    "\n",
    "print(Outlook)\n",
    "print(Temp)\n",
    "print(Wind)\n",
    "print(Humidity)\n",
    "print(Label)\n"
   ]
  },
  {
   "cell_type": "code",
   "execution_count": 3,
   "id": "48d8b764-3977-4e7b-85d4-e0192ccae069",
   "metadata": {},
   "outputs": [
    {
     "name": "stdout",
     "output_type": "stream",
     "text": [
      "[1 1 0 2 2 2 0 1 1 2 1 0 0 2]\n",
      "[1 1 1 2 2 2 0 0 0 2 2 2 1 2]\n",
      "[0 1 0 0 0 1 1 0 0 0 1 1 0 1]\n",
      "[2 0 2 2 2 1 2 2 1 0 0 1 2 2]\n",
      "[0 0 1 0 1 1 1 1 1 1 1 1 1 0]\n"
     ]
    }
   ],
   "source": [
    "#creating label encoder\n",
    "le = preprocessing.LabelEncoder()\n",
    "encoded_Outlook=le.fit_transform(Outlook)\n",
    "encoded_Temp=le.fit_transform(Temp)\n",
    "encoded_Wind=le.fit_transform(Wind)\n",
    "encoded_Humidity=le.fit_transform(Humidity)\n",
    "encoded_Label=le.fit_transform(Label)\n",
    "\n",
    "print(encoded_Outlook)\n",
    "print(encoded_Temp)\n",
    "print(encoded_Wind)\n",
    "print(encoded_Humidity)\n",
    "print(encoded_Label)"
   ]
  },
  {
   "cell_type": "code",
   "execution_count": 4,
   "id": "23eccd5e-fc42-4ee8-9c81-a04937216aa2",
   "metadata": {},
   "outputs": [
    {
     "name": "stdout",
     "output_type": "stream",
     "text": [
      "((1, 1, 0, 2), (1, 1, 1, 0), (0, 1, 0, 2), (2, 2, 0, 2), (2, 2, 0, 2), (2, 2, 1, 1), (0, 0, 1, 2), (1, 0, 0, 2), (1, 0, 0, 1), (2, 2, 0, 0), (1, 2, 1, 0), (0, 2, 1, 1), (0, 1, 0, 2), (2, 2, 1, 2))\n"
     ]
    }
   ],
   "source": [
    "#Combinig Outlook,temp,wind,humidity into single listof tuples\n",
    "features=tuple(zip(encoded_Outlook,encoded_Temp,encoded_Wind,encoded_Humidity,))\n",
    "print(features)"
   ]
  },
  {
   "cell_type": "code",
   "execution_count": 6,
   "id": "3914365c-0a8f-444f-8ce7-619be7727850",
   "metadata": {},
   "outputs": [],
   "source": [
    "#split data set into train and test sets\n",
    "#Id:18CLUOG011\n",
    "data_train, data_test, target_train, target_test = train_test_split(features,\n",
    "                        encoded_Label, test_size = 0.10, random_state = 11)"
   ]
  },
  {
   "cell_type": "code",
   "execution_count": 8,
   "id": "f6f9018d-5697-48b0-9ae3-5fd8aac508d9",
   "metadata": {},
   "outputs": [
    {
     "data": {
      "text/plain": [
       "DecisionTreeClassifier(criterion='entropy')"
      ]
     },
     "execution_count": 8,
     "metadata": {},
     "output_type": "execute_result"
    }
   ],
   "source": [
    "from sklearn import preprocessing\n",
    "from sklearn.tree import DecisionTreeClassifier\n",
    "\n",
    "#Create a Decision Tree Classifier (using Entropy)\n",
    "clf_entropy=DecisionTreeClassifier(criterion=\"entropy\")\n",
    "\n",
    "# Train the model using the training sets\n",
    "clf_entropy.fit(features,encoded_Label)"
   ]
  },
  {
   "cell_type": "code",
   "execution_count": 10,
   "id": "5dfbd825-231b-4b6f-a6fe-3006892c42ed",
   "metadata": {},
   "outputs": [],
   "source": [
    "# Predict the classes of test data\n",
    "test_pred=clf_entropy.predict(data_test)"
   ]
  },
  {
   "cell_type": "code",
   "execution_count": 15,
   "id": "a007586f-1910-4e8d-95df-b1ce81798019",
   "metadata": {},
   "outputs": [
    {
     "name": "stdout",
     "output_type": "stream",
     "text": [
      "\n",
      "Accuracy: 1.0000\n"
     ]
    }
   ],
   "source": [
    "# Model Accuracy, how often is the classifier correct?\n",
    "from sklearn.metrics import accuracy_score\n",
    "print('\\nAccuracy: {0:.4f}'.format(accuracy_score(target_test, test_pred)))"
   ]
  },
  {
   "cell_type": "code",
   "execution_count": 16,
   "id": "9fd36167-8ab9-48d1-8b1c-5675bb74e268",
   "metadata": {},
   "outputs": [
    {
     "name": "stdout",
     "output_type": "stream",
     "text": [
      "Predicted Value: [0]\n"
     ]
    }
   ],
   "source": [
    "#Answer to the question for Task-1\n",
    "\n",
    "#Question-1:What will be the value of Play, if Outlook is ’Rainy’, Temperature is ’Mild’, Humidity =’Normal’, and Wind = ’False’?\n",
    "\n",
    "#Predict Output\n",
    "predicted= clf_entropy.predict([[1,2,0,2]]) # 1:Rainy 2:Mild 0:False  2:Normal\n",
    "print(\"Predicted Value:\", predicted)"
   ]
  },
  {
   "cell_type": "code",
   "execution_count": 17,
   "id": "e3e4cd79-1510-416e-a624-25ddb5c5adb6",
   "metadata": {},
   "outputs": [
    {
     "name": "stdout",
     "output_type": "stream",
     "text": [
      "Predicted Value: [1]\n"
     ]
    }
   ],
   "source": [
    "#Question-2:What will be the value of Play, if Outlook is ’Sunny’, Temeprature is ’Cool’, Humidity =’High’, and Wind = ’True’?\n",
    "\n",
    "#Predict Output\n",
    "predicted= clf_entropy.predict([[2,0,1,0]]) # 2:Sunny 0:Cool  1:True  2:Humidity\n",
    "print(\"Predicted Value:\", predicted)\n"
   ]
  },
  {
   "cell_type": "code",
   "execution_count": 19,
   "id": "6d8122ef-07a8-4462-adaf-fcd4d5096a8f",
   "metadata": {},
   "outputs": [
    {
     "name": "stdout",
     "output_type": "stream",
     "text": [
      "precision: 1.0\n",
      "recall: 1.0\n"
     ]
    }
   ],
   "source": [
    "#Question-3:Precession and Recall of this model\n",
    "\n",
    "from sklearn.metrics import precision_score\n",
    "from sklearn.metrics import recall_score\n",
    "\n",
    "precision = precision_score(target_test, test_pred)\n",
    "recall = recall_score(target_test, test_pred)\n",
    "\n",
    "print('precision: {}'.format(precision))\n",
    "print('recall: {}'.format(recall))"
   ]
  },
  {
   "cell_type": "code",
   "execution_count": null,
   "id": "b74f40b1-449b-40aa-bb97-026a6fc968e5",
   "metadata": {},
   "outputs": [],
   "source": []
  }
 ],
 "metadata": {
  "kernelspec": {
   "display_name": "Python 3 (ipykernel)",
   "language": "python",
   "name": "python3"
  },
  "language_info": {
   "codemirror_mode": {
    "name": "ipython",
    "version": 3
   },
   "file_extension": ".py",
   "mimetype": "text/x-python",
   "name": "python",
   "nbconvert_exporter": "python",
   "pygments_lexer": "ipython3",
   "version": "3.9.7"
  }
 },
 "nbformat": 4,
 "nbformat_minor": 5
}
