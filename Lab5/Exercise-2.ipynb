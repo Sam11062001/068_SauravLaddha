{
 "cells": [
  {
   "cell_type": "code",
   "execution_count": 9,
   "id": "8a2f1561-1a7c-4eb5-b061-6fd2d90366ee",
   "metadata": {},
   "outputs": [
    {
     "name": "stdout",
     "output_type": "stream",
     "text": [
      "WARNING:tensorflow:From C:\\Users\\LENOVO\\AppData\\Local\\Packages\\PythonSoftwareFoundation.Python.3.9_qbz5n2kfra8p0\\LocalCache\\local-packages\\Python39\\site-packages\\tensorflow\\python\\compat\\v2_compat.py:101: disable_resource_variables (from tensorflow.python.ops.variable_scope) is deprecated and will be removed in a future version.\n",
      "Instructions for updating:\n",
      "non-resource variables are not supported in the long term\n"
     ]
    }
   ],
   "source": [
    "import numpy as np\n",
    "import tensorflow.compat.v1 as tf\n",
    "tf.disable_v2_behavior()\n",
    "import matplotlib.pyplot as plt"
   ]
  },
  {
   "cell_type": "code",
   "execution_count": 10,
   "id": "0819b3db-1293-4d8a-81c0-d9a291ee7f4c",
   "metadata": {},
   "outputs": [],
   "source": [
    "def generate_dataset():\n",
    " x_batch = np.linspace(0, 2, 100)\n",
    " y_batch = 1.5 * x_batch + np.random.randn(*x_batch.shape) * 0.2 + 0.5\n",
    " return x_batch, y_batch"
   ]
  },
  {
   "cell_type": "code",
   "execution_count": 11,
   "id": "bdaae4f7-7144-4220-b970-2b6a4146d7cf",
   "metadata": {},
   "outputs": [],
   "source": [
    "def linear_regression():\n",
    "  x = tf.placeholder(tf.float32, shape=(None, ), name='x')\n",
    "  y = tf.placeholder(tf.float32, shape=(None, ), name='y')\n",
    "\n",
    "  with tf.variable_scope('lreg') as scope:\n",
    "    w = tf.Variable(np.random.normal(), name='W')\n",
    "    b = tf.Variable(np.random.normal(), name='b')\n",
    "\t\t\n",
    "    y_pred = tf.add(tf.multiply(w, x), b)\n",
    "\n",
    "    loss = tf.reduce_mean(tf.square(y_pred - y))\n",
    "\n",
    "  return x, y, y_pred, loss"
   ]
  },
  {
   "cell_type": "code",
   "execution_count": 12,
   "id": "a16578dd-4c8d-4b69-bffb-c8fab9226987",
   "metadata": {},
   "outputs": [],
   "source": [
    "def run():\n",
    "  x_batch, y_batch = generate_dataset()\n",
    "  x, y, y_pred, loss = linear_regression()\n",
    "\n",
    "  optimizer = tf.train.GradientDescentOptimizer(0.1)\n",
    "  train_op = optimizer.minimize(loss)\n",
    "\n",
    "  with tf.Session() as session:\n",
    "    session.run(tf.global_variables_initializer())\n",
    "    feed_dict = {x: x_batch, y: y_batch}\n",
    "\t\t\n",
    "    for i in range(30):\n",
    "      session.run(train_op, feed_dict)\n",
    "      print(i, \"loss:\", loss.eval(feed_dict))\n",
    "\n",
    "    print('Predicting')\n",
    "    y_pred_batch = session.run(y_pred, {x : x_batch})\n",
    "\n",
    "  plt.scatter(x_batch, y_batch)\n",
    "  plt.plot(x_batch, y_pred_batch, color='red')\n",
    "  plt.xlim(0, 2)\n",
    "  plt.ylim(0, 2)\n",
    "  plt.savefig('plot.png')"
   ]
  },
  {
   "cell_type": "code",
   "execution_count": 13,
   "id": "cc2a9c23-252f-4dbb-b2b7-3a351684d3f2",
   "metadata": {},
   "outputs": [
    {
     "name": "stdout",
     "output_type": "stream",
     "text": [
      "0 loss: 0.5202023\n",
      "1 loss: 0.41242188\n",
      "2 loss: 0.36458328\n",
      "3 loss: 0.33659005\n",
      "4 loss: 0.31567612\n",
      "5 loss: 0.297745\n",
      "6 loss: 0.28145233\n",
      "7 loss: 0.2663296\n",
      "8 loss: 0.25218803\n",
      "9 loss: 0.23893061\n",
      "10 loss: 0.22649139\n",
      "11 loss: 0.21481644\n",
      "12 loss: 0.20385775\n",
      "13 loss: 0.19357103\n",
      "14 loss: 0.18391499\n",
      "15 loss: 0.17485088\n",
      "16 loss: 0.16634245\n",
      "17 loss: 0.1583556\n",
      "18 loss: 0.15085834\n",
      "19 loss: 0.14382075\n",
      "20 loss: 0.13721454\n",
      "21 loss: 0.13101333\n",
      "22 loss: 0.12519225\n",
      "23 loss: 0.11972806\n",
      "24 loss: 0.11459882\n",
      "25 loss: 0.109784015\n",
      "26 loss: 0.10526438\n",
      "27 loss: 0.101021804\n",
      "28 loss: 0.09703929\n",
      "29 loss: 0.093300946\n",
      "Predicting\n"
     ]
    },
    {
     "data": {
      "image/png": "[encoded data removed]",
      "text/plain": [
       "<Figure size 432x288 with 1 Axes>"
      ]
     },
     "metadata": {
      "needs_background": "light"
     },
     "output_type": "display_data"
    }
   ],
   "source": [
    "run()"
   ]
  },
  {
   "cell_type": "code",
   "execution_count": null,
   "id": "5ff3e980-4838-409d-a876-fdb8e9bcd698",
   "metadata": {},
   "outputs": [],
   "source": []
  },
  {
   "cell_type": "code",
   "execution_count": null,
   "id": "ba1fb7d7-78a8-439e-9bdc-d05db9bee2ea",
   "metadata": {},
   "outputs": [],
   "source": []
  }
 ],
 "metadata": {
  "kernelspec": {
   "display_name": "Python 3 (ipykernel)",
   "language": "python",
   "name": "python3"
  },
  "language_info": {
   "codemirror_mode": {
    "name": "ipython",
    "version": 3
   },
   "file_extension": ".py",
   "mimetype": "text/x-python",
   "name": "python",
   "nbconvert_exporter": "python",
   "pygments_lexer": "ipython3",
   "version": "3.9.7"
  }
 },
 "nbformat": 4,
 "nbformat_minor": 5
}
