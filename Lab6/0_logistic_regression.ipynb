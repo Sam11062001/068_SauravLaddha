{
 "cells": [
  {
   "cell_type": "code",
   "execution_count": 23,
   "metadata": {
    "_cell_guid": "b1076dfc-b9ad-4769-8c92-a6c4dae69d19",
    "_uuid": "8f2839f25d086af736a60e9eeb907d3b93b6e0e5",
    "colab": {},
    "colab_type": "code",
    "id": "hfV503AtcBDp"
   },
   "outputs": [
    {
     "name": "stdout",
     "output_type": "stream",
     "text": [
      "C:\\Users\\LENOVO\\Machine-Learning Sem-7\\Lab-06\n"
     ]
    }
   ],
   "source": [
    "#Importing libraries\n",
    "import numpy as np \n",
    "import pandas as pd \n",
    "import io\n",
    "import matplotlib.pyplot as plt\n",
    "\n",
    "import os\n",
    "path=os.getcwd()\n",
    "print(path)"
   ]
  },
  {
   "cell_type": "code",
   "execution_count": 24,
   "metadata": {
    "_cell_guid": "79c7e3d0-c299-4dcb-8224-4455121ee9b0",
    "_uuid": "d629ff2d2480ee46fbb7e2d37f6b5fab8052498a",
    "colab": {
     "base_uri": "https://localhost:8080/",
     "height": 264,
     "resources": {
      "http://localhost:8080/nbextensions/google.colab/files.js": {
       "data": "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",
       "headers": [
        [
         "content-type",
         "application/javascript"
        ]
       ],
       "ok": true,
       "status": 200,
       "status_text": "OK"
      }
     }
    },
    "colab_type": "code",
    "executionInfo": {
     "elapsed": 15832,
     "status": "ok",
     "timestamp": 1597300415504,
     "user": {
      "displayName": "Prof. Hariom Pandya",
      "photoUrl": "https://lh3.googleusercontent.com/a-/AOh14Ggt3sg6X_951s0boD3SSJvqRng4AQaC3MhTBtGQ9Q=s64",
      "userId": "16159546014304882594"
     },
     "user_tz": -330
    },
    "id": "Y4rK9ffYcBEP",
    "outputId": "cb915e2d-2d8b-430b-9482-c250c3e9c985"
   },
   "outputs": [
    {
     "name": "stdout",
     "output_type": "stream",
     "text": [
      "     Age  EstimatedSalary  Purchased\n",
      "0     19            19000          0\n",
      "1     35            20000          0\n",
      "2     26            43000          0\n",
      "3     27            57000          0\n",
      "4     19            76000          0\n",
      "..   ...              ...        ...\n",
      "395   46            41000          1\n",
      "396   51            23000          1\n",
      "397   50            20000          1\n",
      "398   36            33000          0\n",
      "399   49            36000          1\n",
      "\n",
      "[400 rows x 3 columns]\n"
     ]
    }
   ],
   "source": [
    "# reading the csv file, del 2 columns from the file, checking first few rows of the file\n",
    "data = pd.read_csv('C:/Users/LENOVO/Machine-Learning Sem-7/Lab-06/BuyComputer.csv')\n",
    "\n",
    "data.drop(columns=['User ID',],axis=1,inplace=True)\n",
    "data.head()\n",
    "print(data)"
   ]
  },
  {
   "cell_type": "code",
   "execution_count": 25,
   "metadata": {
    "_uuid": "4cb45e28344e7e245ab398e9f4f5272ef21d2129",
    "colab": {},
    "colab_type": "code",
    "id": "jwuPgU6_cBE8"
   },
   "outputs": [],
   "source": [
    "#Declare label as last column in the source file\n",
    "y = data.iloc[:,-1].values"
   ]
  },
  {
   "cell_type": "code",
   "execution_count": 26,
   "metadata": {
    "_uuid": "2e7a145fa49435ad9578ec2827f76a70cc99f2e1",
    "colab": {},
    "colab_type": "code",
    "id": "2lhBrOp8cBFX"
   },
   "outputs": [],
   "source": [
    "#Declaring X as all columns excluding last\n",
    "X = data.iloc[:,:-1].values"
   ]
  },
  {
   "cell_type": "code",
   "execution_count": 27,
   "metadata": {
    "_uuid": "dffb1f3e19e19964995ac827bf55108b5815ff67",
    "colab": {},
    "colab_type": "code",
    "id": "t8nwbTn6cBFp"
   },
   "outputs": [],
   "source": [
    "# Splitting data\n",
    "from sklearn.model_selection import train_test_split\n",
    "X_train, X_test, y_train, y_test = train_test_split(X, y, test_size = 0.25, random_state = 0)"
   ]
  },
  {
   "cell_type": "code",
   "execution_count": 28,
   "metadata": {
    "_uuid": "7d4ed14782e114ae3282f20d3754121398e6d232",
    "colab": {},
    "colab_type": "code",
    "id": "U4bUiVVFcBGD"
   },
   "outputs": [],
   "source": [
    "# Sacaling data\n",
    "from sklearn.preprocessing import StandardScaler\n",
    "sc = StandardScaler()\n",
    "X_train = sc.fit_transform(X_train)\n",
    "X_test = sc.transform(X_test)"
   ]
  },
  {
   "cell_type": "code",
   "execution_count": 29,
   "metadata": {
    "_uuid": "2ff7415e3e0e0673d59051cfe6154c63d3312a32",
    "colab": {},
    "colab_type": "code",
    "id": "W5yGgzqbcBGc"
   },
   "outputs": [
    {
     "name": "stdout",
     "output_type": "stream",
     "text": [
      "2\n"
     ]
    }
   ],
   "source": [
    "#Variabes to calculate sigmoid function\n",
    "y_pred = []\n",
    "len_x = len(X_train[0])\n",
    "w = []\n",
    "b = 0.2\n",
    "print(len_x)"
   ]
  },
  {
   "cell_type": "code",
   "execution_count": 30,
   "metadata": {
    "_uuid": "a228174207f4631be4f26a0cc05e379f3f58aa56",
    "colab": {},
    "colab_type": "code",
    "id": "ZbqwTM0bcBGr"
   },
   "outputs": [
    {
     "data": {
      "text/plain": [
       "300"
      ]
     },
     "execution_count": 30,
     "metadata": {},
     "output_type": "execute_result"
    }
   ],
   "source": [
    "entries = len(X_train[:,0])\n",
    "entries"
   ]
  },
  {
   "cell_type": "code",
   "execution_count": 31,
   "metadata": {
    "_uuid": "5d4d6e47ee65c9c7404e60fcf8f05c11708546b3",
    "colab": {},
    "colab_type": "code",
    "id": "vEV7Nn73cBG7"
   },
   "outputs": [
    {
     "data": {
      "text/plain": [
       "[0, 0]"
      ]
     },
     "execution_count": 31,
     "metadata": {},
     "output_type": "execute_result"
    }
   ],
   "source": [
    "for weights in range(len_x):\n",
    "    w.append(0)\n",
    "w"
   ]
  },
  {
   "cell_type": "code",
   "execution_count": 32,
   "metadata": {
    "_uuid": "18dbd2196d72527a82d30ab88ed2aa8d10bd01ce",
    "colab": {},
    "colab_type": "code",
    "id": "_fAtpylNcBHM"
   },
   "outputs": [],
   "source": [
    "# Sigmoid function\n",
    "def sigmoid(z):\n",
    " return (1/(1+np.exp(-z)))"
   ]
  },
  {
   "cell_type": "code",
   "execution_count": 33,
   "metadata": {
    "_uuid": "daa0f87fdbf98591cb9f51b8dc7157dc399ca827",
    "colab": {},
    "colab_type": "code",
    "id": "kfchkScTcBHd"
   },
   "outputs": [],
   "source": [
    "\n",
    "def predict(inputs):\n",
    "    z = np.dot(w,inputs)+b\n",
    "    a = sigmoid(z)\n",
    "    return a"
   ]
  },
  {
   "cell_type": "code",
   "execution_count": 34,
   "metadata": {
    "_uuid": "4126f842d072ccd40019cc283b767a014e2ee074",
    "colab": {},
    "colab_type": "code",
    "id": "K2ryTgglcBHt"
   },
   "outputs": [],
   "source": [
    "#Loss function\n",
    "def loss_func(y,a):\n",
    "    J = -(y*np.log(a) + (1-y)*np.log(1-a))\n",
    "    return J         "
   ]
  },
  {
   "cell_type": "code",
   "execution_count": 40,
   "metadata": {
    "_uuid": "fc0ceb65c69f4ee0c3f28e050744229dc90c621b",
    "colab": {},
    "colab_type": "code",
    "id": "1KW3eDpmcBIA"
   },
   "outputs": [],
   "source": [
    "dw = []\n",
    "db = 0\n",
    "J = 0\n",
    "alpha = 0.1\n",
    "for x in range(len_x):\n",
    "    dw.append(0)"
   ]
  },
  {
   "cell_type": "code",
   "execution_count": 41,
   "metadata": {
    "_uuid": "e4be38e9b500ae0c5a7134296a3055675c4fb2d8",
    "colab": {},
    "colab_type": "code",
    "id": "ipqdFLP3cBIO"
   },
   "outputs": [],
   "source": [
    "#Repeating the process 3000 times\n",
    "for iterations in range(3000):\n",
    "    for i in range(entries):\n",
    "        localx = X_train[i]\n",
    "        a = predict(localx)   \n",
    "        dz = a - y_train[i]\n",
    "        J += loss_func(y_train[i],a)\n",
    "        for j in range(len_x):\n",
    "            dw[j] = dw[j]+(localx[j]*dz)\n",
    "        db += dz\n",
    "    J = J/entries\n",
    "    db = db/entries\n",
    "    for x in range(len_x):\n",
    "        dw[x]=dw[x]/entries\n",
    "    for x in range(len_x):\n",
    "        w[x] = w[x]-(alpha*dw[x])\n",
    "    b = b-(alpha*db)         \n",
    "    J=0"
   ]
  },
  {
   "cell_type": "code",
   "execution_count": 42,
   "metadata": {
    "_uuid": "5479ccb6073ed1ea310ef7de01b2935fc3ec400e",
    "colab": {},
    "colab_type": "code",
    "id": "7Q585AdrcBIs"
   },
   "outputs": [
    {
     "name": "stdout",
     "output_type": "stream",
     "text": [
      "[2.266711119762958, 1.2134441599800365]\n"
     ]
    }
   ],
   "source": [
    "#Print weight\n",
    "print(w)"
   ]
  },
  {
   "cell_type": "code",
   "execution_count": 43,
   "metadata": {
    "_uuid": "a939c247b8a092f74c9843975612daa85c423621",
    "colab": {},
    "colab_type": "code",
    "id": "rEiF-bNHcBJB"
   },
   "outputs": [
    {
     "name": "stdout",
     "output_type": "stream",
     "text": [
      "-1.003350215274993\n"
     ]
    }
   ],
   "source": [
    "#print bias\n",
    "print(b)"
   ]
  },
  {
   "cell_type": "code",
   "execution_count": 44,
   "metadata": {
    "_uuid": "b7ae24169a21c7ac8ea0787f4a38a0de3e07a6b5",
    "colab": {},
    "colab_type": "code",
    "id": "MPt5nUcpcBJR"
   },
   "outputs": [],
   "source": [
    "#predicting the label\n",
    "for x in range(len(y_test)):\n",
    "    y_pred.append(predict(X_test[x]))"
   ]
  },
  {
   "cell_type": "code",
   "execution_count": 45,
   "metadata": {
    "_uuid": "967ad1b72305ad792a5d50e4d8b8a07632f7b241",
    "colab": {},
    "colab_type": "code",
    "id": "79HPPz7jcBJg"
   },
   "outputs": [
    {
     "name": "stdout",
     "output_type": "stream",
     "text": [
      "Actual  0  Predicted  0.09842409536264078\n",
      "Actual  0  Predicted  0.15177377609023793\n",
      "Actual  0  Predicted  0.18025071884775118\n",
      "Actual  0  Predicted  0.07611719180917521\n",
      "Actual  0  Predicted  0.08361690361665731\n",
      "Actual  0  Predicted  0.005243776634177237\n",
      "Actual  0  Predicted  0.010734992700489042\n",
      "Actual  1  Predicted  0.7571937693471024\n",
      "Actual  0  Predicted  0.0037694921296892283\n",
      "Actual  0  Predicted  0.5133144490381298\n",
      "Actual  0  Predicted  0.027874898214195306\n",
      "Actual  0  Predicted  0.022104457401296112\n",
      "Actual  0  Predicted  0.14562616986268323\n",
      "Actual  0  Predicted  0.36670547121513386\n",
      "Actual  0  Predicted  0.011043424286870693\n",
      "Actual  0  Predicted  0.3294979275644846\n",
      "Actual  0  Predicted  0.2698602679799504\n",
      "Actual  0  Predicted  0.008539519631445232\n",
      "Actual  1  Predicted  0.9926806414923187\n",
      "Actual  0  Predicted  0.03294956704843397\n",
      "Actual  0  Predicted  0.07587686527813868\n",
      "Actual  1  Predicted  0.9735735529872795\n",
      "Actual  0  Predicted  0.2665608313649397\n",
      "Actual  1  Predicted  0.9033075006488478\n",
      "Actual  0  Predicted  0.002837718090932792\n",
      "Actual  1  Predicted  0.9811093795492443\n",
      "Actual  0  Predicted  0.06514270220406453\n",
      "Actual  0  Predicted  0.06382801331931073\n",
      "Actual  0  Predicted  0.17901208808300603\n",
      "Actual  0  Predicted  0.14171902387421664\n",
      "Actual  0  Predicted  0.014774401031024778\n",
      "Actual  1  Predicted  0.2839466091668853\n",
      "Actual  1  Predicted  0.9476548982901304\n",
      "Actual  0  Predicted  0.13708806593294828\n",
      "Actual  0  Predicted  0.010130835995871605\n",
      "Actual  0  Predicted  0.0021504114257166183\n",
      "Actual  0  Predicted  0.014460505237276343\n",
      "Actual  0  Predicted  0.05391430811663697\n",
      "Actual  0  Predicted  0.020734499756814042\n",
      "Actual  1  Predicted  0.5636415550300866\n",
      "Actual  0  Predicted  0.05452080239262793\n",
      "Actual  0  Predicted  0.2734952788121867\n",
      "Actual  0  Predicted  0.04770512896530508\n",
      "Actual  0  Predicted  0.030779726920982825\n",
      "Actual  1  Predicted  0.8296131519157365\n",
      "Actual  0  Predicted  0.01967459402932635\n",
      "Actual  0  Predicted  0.29115379616992415\n",
      "Actual  1  Predicted  0.944233035081703\n",
      "Actual  0  Predicted  0.00595164836239792\n",
      "Actual  1  Predicted  0.8823663864620779\n",
      "Actual  1  Predicted  0.9938024774242533\n",
      "Actual  0  Predicted  0.029363337027732216\n",
      "Actual  0  Predicted  0.10452594979047025\n",
      "Actual  0  Predicted  0.41778695042671576\n",
      "Actual  1  Predicted  0.9870057739338911\n",
      "Actual  1  Predicted  0.3137421833750607\n",
      "Actual  0  Predicted  0.07043264875938775\n",
      "Actual  0  Predicted  0.03360039603058703\n",
      "Actual  1  Predicted  0.4936258430245119\n",
      "Actual  0  Predicted  0.0021430801601786988\n",
      "Actual  0  Predicted  0.014869949421626841\n",
      "Actual  1  Predicted  0.949611810452495\n",
      "Actual  0  Predicted  0.006236324852846722\n",
      "Actual  1  Predicted  0.39035629647445735\n",
      "Actual  0  Predicted  0.0010794900498805494\n",
      "Actual  1  Predicted  0.9876141878003802\n",
      "Actual  0  Predicted  0.0295590518750615\n",
      "Actual  0  Predicted  0.01967459402932635\n",
      "Actual  0  Predicted  0.20143559177580492\n",
      "Actual  0  Predicted  0.4702314963509632\n",
      "Actual  1  Predicted  0.610766378896903\n",
      "Actual  0  Predicted  0.19088241353863775\n",
      "Actual  0  Predicted  0.007728851352537749\n",
      "Actual  1  Predicted  0.24333207323481484\n",
      "Actual  0  Predicted  0.05636303417434691\n",
      "Actual  0  Predicted  0.006153898850110909\n",
      "Actual  0  Predicted  0.5491950865016073\n",
      "Actual  0  Predicted  0.28496081991347777\n",
      "Actual  1  Predicted  0.7471560190255904\n",
      "Actual  1  Predicted  0.9092812439075768\n",
      "Actual  1  Predicted  0.9977075994542584\n",
      "Actual  0  Predicted  0.9845452425831263\n",
      "Actual  0  Predicted  0.009125333396178782\n",
      "Actual  0  Predicted  0.007088204106488411\n",
      "Actual  1  Predicted  0.912664809363993\n",
      "Actual  1  Predicted  0.5578893874523412\n",
      "Actual  0  Predicted  0.4031728358234084\n",
      "Actual  1  Predicted  0.997004954621699\n",
      "Actual  1  Predicted  0.43989942525160985\n",
      "Actual  0  Predicted  0.3328088842876936\n",
      "Actual  0  Predicted  0.4181665659056453\n",
      "Actual  1  Predicted  0.8072432635440886\n",
      "Actual  0  Predicted  0.00571868065754652\n",
      "Actual  0  Predicted  0.005287803734851504\n",
      "Actual  0  Predicted  0.024909808245049393\n",
      "Actual  1  Predicted  0.07098494899824051\n",
      "Actual  0  Predicted  0.009655179880832278\n",
      "Actual  1  Predicted  0.48149153244045567\n",
      "Actual  1  Predicted  0.8733911708941208\n",
      "Actual  1  Predicted  0.7459178966485439\n"
     ]
    }
   ],
   "source": [
    "#print actual and predicted values in a table\n",
    "for x in range(len(y_pred)):\n",
    "    print('Actual ',y_test[x],' Predicted ',y_pred[x])\n",
    "    if y_pred[x]>=0.5:\n",
    "        y_pred[x]=1\n",
    "    else:\n",
    "        y_pred[x]=0"
   ]
  },
  {
   "cell_type": "code",
   "execution_count": 46,
   "metadata": {
    "_uuid": "a59807150900082ab876ef0200c6c7f8f93e098c",
    "colab": {},
    "colab_type": "code",
    "id": "sdZDj_iVcBJt"
   },
   "outputs": [
    {
     "name": "stdout",
     "output_type": "stream",
     "text": [
      "Accuracy: 89.0\n"
     ]
    }
   ],
   "source": [
    "# Calculating accuracy of prediction\n",
    "count = 0\n",
    "for x in range(len(y_pred)):\n",
    "    if(y_pred[x]==y_test[x]):\n",
    "        count=count+1\n",
    "print('Accuracy:',(count/(len(y_pred)))*100)"
   ]
  },
  {
   "cell_type": "markdown",
   "metadata": {
    "colab_type": "text",
    "id": "x6nmajpzhAEn"
   },
   "source": [
    "#Using sklearn LogisticRegression model"
   ]
  },
  {
   "cell_type": "code",
   "execution_count": 54,
   "metadata": {
    "_kg_hide-output": true,
    "_uuid": "9aaade066015e04f20dd7eb1d37339be75ca3836",
    "colab": {},
    "colab_type": "code",
    "id": "iG-BK4i9cBKH"
   },
   "outputs": [
    {
     "name": "stdout",
     "output_type": "stream",
     "text": [
      "Actual  0  Predicted  0\n",
      "Actual  0  Predicted  0\n",
      "Actual  0  Predicted  0\n",
      "Actual  0  Predicted  0\n",
      "Actual  0  Predicted  0\n",
      "Actual  0  Predicted  0\n",
      "Actual  0  Predicted  0\n",
      "Actual  1  Predicted  1\n",
      "Actual  0  Predicted  0\n",
      "Actual  0  Predicted  1\n",
      "Actual  0  Predicted  0\n",
      "Actual  0  Predicted  0\n",
      "Actual  0  Predicted  0\n",
      "Actual  0  Predicted  0\n",
      "Actual  0  Predicted  0\n",
      "Actual  0  Predicted  0\n",
      "Actual  0  Predicted  0\n",
      "Actual  0  Predicted  0\n",
      "Actual  1  Predicted  1\n",
      "Actual  0  Predicted  0\n",
      "Actual  0  Predicted  0\n",
      "Actual  1  Predicted  1\n",
      "Actual  0  Predicted  0\n",
      "Actual  1  Predicted  1\n",
      "Actual  0  Predicted  0\n",
      "Actual  1  Predicted  1\n",
      "Actual  0  Predicted  0\n",
      "Actual  0  Predicted  0\n",
      "Actual  0  Predicted  0\n",
      "Actual  0  Predicted  0\n",
      "Actual  0  Predicted  0\n",
      "Actual  1  Predicted  0\n",
      "Actual  1  Predicted  1\n",
      "Actual  0  Predicted  0\n",
      "Actual  0  Predicted  0\n",
      "Actual  0  Predicted  0\n",
      "Actual  0  Predicted  0\n",
      "Actual  0  Predicted  0\n",
      "Actual  0  Predicted  0\n",
      "Actual  1  Predicted  1\n",
      "Actual  0  Predicted  0\n",
      "Actual  0  Predicted  0\n",
      "Actual  0  Predicted  0\n",
      "Actual  0  Predicted  0\n",
      "Actual  1  Predicted  1\n",
      "Actual  0  Predicted  0\n",
      "Actual  0  Predicted  0\n",
      "Actual  1  Predicted  1\n",
      "Actual  0  Predicted  0\n",
      "Actual  1  Predicted  1\n",
      "Actual  1  Predicted  1\n",
      "Actual  0  Predicted  0\n",
      "Actual  0  Predicted  0\n",
      "Actual  0  Predicted  0\n",
      "Actual  1  Predicted  1\n",
      "Actual  1  Predicted  0\n",
      "Actual  0  Predicted  0\n",
      "Actual  0  Predicted  0\n",
      "Actual  1  Predicted  0\n",
      "Actual  0  Predicted  0\n",
      "Actual  0  Predicted  0\n",
      "Actual  1  Predicted  1\n",
      "Actual  0  Predicted  0\n",
      "Actual  1  Predicted  0\n",
      "Actual  0  Predicted  0\n",
      "Actual  1  Predicted  1\n",
      "Actual  0  Predicted  0\n",
      "Actual  0  Predicted  0\n",
      "Actual  0  Predicted  0\n",
      "Actual  0  Predicted  0\n",
      "Actual  1  Predicted  1\n",
      "Actual  0  Predicted  0\n",
      "Actual  0  Predicted  0\n",
      "Actual  1  Predicted  0\n",
      "Actual  0  Predicted  0\n",
      "Actual  0  Predicted  0\n",
      "Actual  0  Predicted  1\n",
      "Actual  0  Predicted  0\n",
      "Actual  1  Predicted  1\n",
      "Actual  1  Predicted  1\n",
      "Actual  1  Predicted  1\n",
      "Actual  0  Predicted  1\n",
      "Actual  0  Predicted  0\n",
      "Actual  0  Predicted  0\n",
      "Actual  1  Predicted  1\n",
      "Actual  1  Predicted  1\n",
      "Actual  0  Predicted  0\n",
      "Actual  1  Predicted  1\n",
      "Actual  1  Predicted  0\n",
      "Actual  0  Predicted  0\n",
      "Actual  0  Predicted  0\n",
      "Actual  1  Predicted  1\n",
      "Actual  0  Predicted  0\n",
      "Actual  0  Predicted  0\n",
      "Actual  0  Predicted  0\n",
      "Actual  1  Predicted  0\n",
      "Actual  0  Predicted  0\n",
      "Actual  1  Predicted  0\n",
      "Actual  1  Predicted  1\n",
      "Actual  1  Predicted  1\n",
      "Accuracy: 89.0\n"
     ]
    }
   ],
   "source": [
    "# Fitting Logistic Regression to the Training set\n",
    "from sklearn.linear_model import LogisticRegression\n",
    "LR = LogisticRegression(random_state = 0)\n",
    "\n",
    "#Fit\n",
    "LR.fit(X_train, y_train)\n",
    "#predicting the test label with LR. Predict always takes X as input\n",
    "y_predLR=LR.predict(X_test)\n",
    "for x in range(len(y_pred)):\n",
    "    print('Actual ',y_test[x],' Predicted ',y_predLR[x])\n",
    "    if y_predLR[x]>=0.5:\n",
    "        y_predLR[x]=1\n",
    "    else:\n",
    "        y_predLR[x]=0\n",
    "\n",
    "count = 0\n",
    "for x in range(len(y_pred)):\n",
    "    if(y_pred[x]==y_test[x]):\n",
    "        count=count+1\n",
    "print('Accuracy:',(count/(len(y_pred)))*100)\n"
   ]
  },
  {
   "cell_type": "code",
   "execution_count": 55,
   "metadata": {},
   "outputs": [
    {
     "name": "stdout",
     "output_type": "stream",
     "text": [
      "Actual  0  Predicted  0\n",
      "Actual  0  Predicted  0\n",
      "Actual  0  Predicted  0\n",
      "Actual  0  Predicted  0\n",
      "Actual  0  Predicted  0\n",
      "Actual  0  Predicted  0\n",
      "Actual  0  Predicted  0\n",
      "Actual  1  Predicted  1\n",
      "Actual  0  Predicted  0\n",
      "Actual  0  Predicted  1\n",
      "Actual  0  Predicted  0\n",
      "Actual  0  Predicted  0\n",
      "Actual  0  Predicted  0\n",
      "Actual  0  Predicted  0\n",
      "Actual  0  Predicted  0\n",
      "Actual  0  Predicted  0\n",
      "Actual  0  Predicted  0\n",
      "Actual  0  Predicted  0\n",
      "Actual  1  Predicted  1\n",
      "Actual  0  Predicted  0\n",
      "Actual  0  Predicted  0\n",
      "Actual  1  Predicted  1\n",
      "Actual  0  Predicted  0\n",
      "Actual  1  Predicted  1\n",
      "Actual  0  Predicted  0\n",
      "Actual  1  Predicted  1\n",
      "Actual  0  Predicted  0\n",
      "Actual  0  Predicted  0\n",
      "Actual  0  Predicted  0\n",
      "Actual  0  Predicted  0\n",
      "Actual  0  Predicted  0\n",
      "Actual  1  Predicted  0\n",
      "Actual  1  Predicted  1\n",
      "Actual  0  Predicted  0\n",
      "Actual  0  Predicted  0\n",
      "Actual  0  Predicted  0\n",
      "Actual  0  Predicted  0\n",
      "Actual  0  Predicted  0\n",
      "Actual  0  Predicted  0\n",
      "Actual  1  Predicted  1\n",
      "Actual  0  Predicted  0\n",
      "Actual  0  Predicted  0\n",
      "Actual  0  Predicted  0\n",
      "Actual  0  Predicted  0\n",
      "Actual  1  Predicted  1\n",
      "Actual  0  Predicted  0\n",
      "Actual  0  Predicted  0\n",
      "Actual  1  Predicted  1\n",
      "Actual  0  Predicted  0\n",
      "Actual  1  Predicted  1\n",
      "Actual  1  Predicted  1\n",
      "Actual  0  Predicted  0\n",
      "Actual  0  Predicted  0\n",
      "Actual  0  Predicted  0\n",
      "Actual  1  Predicted  1\n",
      "Actual  1  Predicted  0\n",
      "Actual  0  Predicted  0\n",
      "Actual  0  Predicted  0\n",
      "Actual  1  Predicted  0\n",
      "Actual  0  Predicted  0\n",
      "Actual  0  Predicted  0\n",
      "Actual  1  Predicted  1\n",
      "Actual  0  Predicted  0\n",
      "Actual  1  Predicted  0\n",
      "Actual  0  Predicted  0\n",
      "Actual  1  Predicted  1\n",
      "Actual  0  Predicted  0\n",
      "Actual  0  Predicted  0\n",
      "Actual  0  Predicted  0\n",
      "Actual  0  Predicted  0\n",
      "Actual  1  Predicted  1\n",
      "Actual  0  Predicted  0\n",
      "Actual  0  Predicted  0\n",
      "Actual  1  Predicted  0\n",
      "Actual  0  Predicted  0\n",
      "Actual  0  Predicted  0\n",
      "Actual  0  Predicted  1\n",
      "Actual  0  Predicted  0\n",
      "Actual  1  Predicted  1\n",
      "Actual  1  Predicted  1\n",
      "Actual  1  Predicted  1\n",
      "Actual  0  Predicted  1\n",
      "Actual  0  Predicted  0\n",
      "Actual  0  Predicted  0\n",
      "Actual  1  Predicted  1\n",
      "Actual  1  Predicted  1\n",
      "Actual  0  Predicted  0\n",
      "Actual  1  Predicted  1\n",
      "Actual  1  Predicted  0\n",
      "Actual  0  Predicted  0\n",
      "Actual  0  Predicted  0\n",
      "Actual  1  Predicted  1\n",
      "Actual  0  Predicted  0\n",
      "Actual  0  Predicted  0\n",
      "Actual  0  Predicted  0\n",
      "Actual  1  Predicted  0\n",
      "Actual  0  Predicted  0\n",
      "Actual  1  Predicted  0\n",
      "Actual  1  Predicted  1\n",
      "Actual  1  Predicted  1\n",
      "Accuracy: 89.0\n"
     ]
    }
   ],
   "source": [
    "#Exercise Problem\n",
    "\n",
    "# Fitting Logistic Regression to the Training set\n",
    "from sklearn.linear_model import LogisticRegression\n",
    "LR = LogisticRegression(random_state = 69)\n",
    "\n",
    "#Fit\n",
    "LR.fit(X_train, y_train)\n",
    "#predicting the test label with LR. Predict always takes X as input\n",
    "y_predLR=LR.predict(X_test)\n",
    "for x in range(len(y_pred)):\n",
    "    print('Actual ',y_test[x],' Predicted ',y_predLR[x])\n",
    "    if y_predLR[x]>=0.5:\n",
    "        y_predLR[x]=1\n",
    "    else:\n",
    "        y_predLR[x]=0\n",
    "\n",
    "count = 0\n",
    "for x in range(len(y_pred)):\n",
    "    if(y_pred[x]==y_test[x]):\n",
    "        count=count+1\n",
    "print('Accuracy:',(count/(len(y_pred)))*100)"
   ]
  },
  {
   "cell_type": "markdown",
   "metadata": {
    "colab_type": "text",
    "id": "Y8sYVBu-iSW-"
   },
   "source": [
    "**Exercise:**\n",
    "\n",
    "Try logistic regression on BuyComputer dataset and set Random state=Your_RollNumber (last 3 digit of ID, incase if you don't have ID)"
   ]
  }
 ],
 "metadata": {
  "colab": {
   "name": "0_logistic_regression.ipynb",
   "provenance": []
  },
  "kernelspec": {
   "display_name": "Python 3 (ipykernel)",
   "language": "python",
   "name": "python3"
  },
  "language_info": {
   "codemirror_mode": {
    "name": "ipython",
    "version": 3
   },
   "file_extension": ".py",
   "mimetype": "text/x-python",
   "name": "python",
   "nbconvert_exporter": "python",
   "pygments_lexer": "ipython3",
   "version": "3.9.7"
  }
 },
 "nbformat": 4,
 "nbformat_minor": 4
}
