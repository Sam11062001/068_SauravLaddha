{
 "cells": [
  {
   "cell_type": "code",
   "execution_count": 1,
   "id": "9f8d69a4-2bbb-4110-a540-9c3eeb205b3f",
   "metadata": {},
   "outputs": [],
   "source": [
    "import numpy as np \n",
    "import pandas as pd \n",
    "from sklearn import datasets\n",
    "from sklearn.cluster import KMeans"
   ]
  },
  {
   "cell_type": "code",
   "execution_count": 2,
   "id": "9370fbff-16e4-4d48-b5ea-439b526599cd",
   "metadata": {},
   "outputs": [
    {
     "name": "stdout",
     "output_type": "stream",
     "text": [
      "['mean radius' 'mean texture' 'mean perimeter' 'mean area'\n",
      " 'mean smoothness' 'mean compactness' 'mean concavity'\n",
      " 'mean concave points' 'mean symmetry' 'mean fractal dimension'\n",
      " 'radius error' 'texture error' 'perimeter error' 'area error'\n",
      " 'smoothness error' 'compactness error' 'concavity error'\n",
      " 'concave points error' 'symmetry error' 'fractal dimension error'\n",
      " 'worst radius' 'worst texture' 'worst perimeter' 'worst area'\n",
      " 'worst smoothness' 'worst compactness' 'worst concavity'\n",
      " 'worst concave points' 'worst symmetry' 'worst fractal dimension']\n",
      "['malignant' 'benign']\n",
      "(569, 30)\n",
      "(569,)\n"
     ]
    }
   ],
   "source": [
    "dataset = datasets.load_breast_cancer()\n",
    "print(dataset.feature_names)\n",
    "print(dataset.target_names)\n",
    "print(dataset.data.shape)\n",
    "print(dataset.target.shape)"
   ]
  },
  {
   "cell_type": "code",
   "execution_count": 7,
   "id": "2ffec8ca-24e1-4ccf-b119-fcd497f3a53a",
   "metadata": {},
   "outputs": [
    {
     "name": "stdout",
     "output_type": "stream",
     "text": [
      "[1 1 8 5 8 0 8 7 0 0 3 3 3 7 0 7 7 3 9 0 0 2 7 9 1 3 7 8 3 3 8 0 3 1 3 3 0\n",
      " 5 0 0 0 5 8 7 0 8 2 0 5 0 5 0 5 3 7 5 1 7 0 2 2 2 7 2 7 7 2 5 2 5 1 2 8 0\n",
      " 5 3 0 8 8 0 5 0 4 3 5 8 7 8 5 7 7 7 0 0 7 1 5 2 5 7 7 2 5 2 2 0 5 5 9 5 2\n",
      " 5 0 2 2 5 2 7 3 3 5 8 9 0 0 0 7 8 0 8 5 3 3 7 8 0 5 5 7 5 2 3 5 0 2 5 5 7\n",
      " 0 0 0 2 2 5 0 5 3 7 5 5 5 8 9 5 9 7 2 3 8 7 5 7 7 2 2 2 2 7 0 5 4 1 3 5 7\n",
      " 2 3 5 5 5 0 5 2 0 7 5 0 3 8 7 5 3 9 7 0 7 2 3 0 7 8 5 4 3 0 0 5 2 1 9 0 0\n",
      " 2 7 0 7 2 7 0 0 3 5 5 1 2 0 4 1 0 3 0 5 5 0 8 2 0 0 5 5 1 5 1 3 1 7 1 7 3\n",
      " 7 1 3 3 7 3 4 2 0 5 2 0 5 9 2 3 5 5 3 0 0 8 5 8 7 5 5 5 5 5 5 0 7 5 5 5 0\n",
      " 2 5 7 2 1 5 8 2 5 5 0 2 0 0 5 7 0 5 2 5 5 8 2 5 2 8 5 1 5 5 0 5 3 7 7 0 5\n",
      " 5 5 3 5 1 2 4 7 2 5 8 5 2 5 7 5 5 5 7 4 7 5 5 5 0 2 2 5 0 5 7 0 1 8 5 4 9\n",
      " 3 7 8 1 0 7 2 0 0 5 5 5 5 5 0 0 5 0 5 3 2 2 3 9 5 0 0 5 5 5 3 5 0 5 5 5 7\n",
      " 0 3 5 5 5 2 7 7 5 2 8 5 5 5 7 5 0 2 2 2 5 2 5 7 5 8 8 0 7 0 0 0 0 5 3 0 2\n",
      " 3 5 3 7 7 1 5 8 5 0 0 0 5 0 0 2 8 6 0 5 0 0 0 2 3 5 2 5 7 5 2 5 7 0 5 7 5\n",
      " 7 0 0 7 5 7 8 5 3 5 3 3 5 0 7 0 5 8 1 7 0 5 4 2 2 5 2 7 7 5 0 0 7 7 5 8 8\n",
      " 0 0 2 4 5 0 2 2 0 5 0 5 5 5 0 8 2 1 0 5 2 2 5 7 7 0 0 0 2 2 2 5 2 5 5 2 5\n",
      " 2 2 2 0 5 0 5 7 1 9 8 3 1 2]\n"
     ]
    },
    {
     "data": {
      "text/plain": [
       "(10, 30)"
      ]
     },
     "execution_count": 7,
     "metadata": {},
     "output_type": "execute_result"
    }
   ],
   "source": [
    "kmeans = KMeans(n_clusters=10, random_state=68)\n",
    "prediction = kmeans.fit_predict(dataset.data)\n",
    "print(prediction)\n",
    "\n",
    "kmeans.cluster_centers_.shape"
   ]
  },
  {
   "cell_type": "code",
   "execution_count": 8,
   "id": "8b84192d-05de-4a49-857b-98b3b48699b5",
   "metadata": {},
   "outputs": [
    {
     "data": {
      "image/png": "[encoded data removed]",
      "text/plain": [
       "<Figure size 576x360 with 10 Axes>"
      ]
     },
     "metadata": {},
     "output_type": "display_data"
    }
   ],
   "source": [
    "# Scatter plot of the data points\n",
    "import matplotlib.pyplot as plt\n",
    "\n",
    "fig, ax = plt.subplots(2, 5, figsize=(8, 5))\n",
    "centers = kmeans.cluster_centers_.reshape(10, 6, 5)\n",
    "\n",
    "for axi, center in zip(ax.flat, centers):\n",
    "  axi.set(xticks=[], yticks=[])\n",
    "  axi.imshow(center, interpolation='nearest', cmap=plt.cm.binary)"
   ]
  },
  {
   "cell_type": "code",
   "execution_count": 9,
   "id": "ebe002f3-25c7-40fe-ae65-44ac22dc3774",
   "metadata": {},
   "outputs": [],
   "source": [
    "\n",
    "import numpy as np\n",
    "from scipy.stats import mode\n",
    "labels = np.zeros_like(prediction)\n",
    "for i in range(10):\n",
    "  mask = (prediction == i)\n",
    "  labels[mask] = mode(dataset.target[mask])[0]"
   ]
  },
  {
   "cell_type": "code",
   "execution_count": 10,
   "id": "9bb3ca76-1a49-46b3-9260-fe258312b759",
   "metadata": {},
   "outputs": [
    {
     "data": {
      "text/plain": [
       "0.8875219683655536"
      ]
     },
     "execution_count": 10,
     "metadata": {},
     "output_type": "execute_result"
    }
   ],
   "source": [
    "from sklearn.metrics import accuracy_score\n",
    "accuracy_score(dataset.target, labels)"
   ]
  },
  {
   "cell_type": "code",
   "execution_count": 11,
   "id": "13d35b97-0d82-410a-9220-2cde42212e68",
   "metadata": {},
   "outputs": [
    {
     "data": {
      "image/png": "[encoded data removed]",
      "text/plain": [
       "<Figure size 432x288 with 1 Axes>"
      ]
     },
     "metadata": {
      "needs_background": "light"
     },
     "output_type": "display_data"
    }
   ],
   "source": [
    "from sklearn.metrics import confusion_matrix\n",
    "import seaborn as sns\n",
    "\n",
    "mat = confusion_matrix(dataset.target, labels)\n",
    "ax = sns.heatmap(mat.T, square=True, annot=True, fmt='d', cbar=False,xticklabels=dataset.target_names,yticklabels=dataset.target_names)\n",
    "\n",
    "plt.xlabel('true label')\n",
    "plt.ylabel('predicted label');"
   ]
  },
  {
   "cell_type": "code",
   "execution_count": null,
   "id": "74310b13-2ce3-4654-95bc-d4ee6bc876d2",
   "metadata": {},
   "outputs": [],
   "source": []
  }
 ],
 "metadata": {
  "kernelspec": {
   "display_name": "Python 3 (ipykernel)",
   "language": "python",
   "name": "python3"
  },
  "language_info": {
   "codemirror_mode": {
    "name": "ipython",
    "version": 3
   },
   "file_extension": ".py",
   "mimetype": "text/x-python",
   "name": "python",
   "nbconvert_exporter": "python",
   "pygments_lexer": "ipython3",
   "version": "3.9.7"
  }
 },
 "nbformat": 4,
 "nbformat_minor": 5
}
