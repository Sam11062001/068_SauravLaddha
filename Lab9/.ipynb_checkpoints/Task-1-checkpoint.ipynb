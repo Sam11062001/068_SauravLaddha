{
 "cells": [
  {
   "cell_type": "code",
   "execution_count": 1,
   "id": "1fca9a93-d83e-4461-b7e7-4243d4816511",
   "metadata": {},
   "outputs": [],
   "source": [
    "import sys, os\n",
    "import numpy as np\n",
    "import matplotlib.pyplot as plt\n",
    "from sklearn import svm, metrics\n",
    "from sklearn.model_selection import train_test_split\n",
    "from sklearn.datasets import load_digits"
   ]
  },
  {
   "cell_type": "code",
   "execution_count": 2,
   "id": "be9a748a-e131-4320-8311-f299c8ef94ec",
   "metadata": {},
   "outputs": [
    {
     "data": {
      "text/plain": [
       "(1797, 64)"
      ]
     },
     "execution_count": 2,
     "metadata": {},
     "output_type": "execute_result"
    }
   ],
   "source": [
    "digits = load_digits()\n",
    "digits.data.shape"
   ]
  },
  {
   "cell_type": "code",
   "execution_count": 3,
   "id": "694fd77b-af11-4775-b7cf-d461ee64d75a",
   "metadata": {},
   "outputs": [
    {
     "name": "stdout",
     "output_type": "stream",
     "text": [
      "[0 1 2 ... 8 9 8]\n"
     ]
    }
   ],
   "source": [
    "print(digits.target)"
   ]
  },
  {
   "cell_type": "code",
   "execution_count": 4,
   "id": "faf2c0c4-b2c7-4212-87bb-84e757b7b57e",
   "metadata": {},
   "outputs": [],
   "source": [
    "X_train, X_test, y_train, y_test = train_test_split(digits.data, digits.target, train_size = 0.2 ,random_state = 68)"
   ]
  },
  {
   "cell_type": "code",
   "execution_count": 7,
   "id": "19cf1ecb-960d-4fcd-acf6-f702120d2e82",
   "metadata": {},
   "outputs": [
    {
     "name": "stdout",
     "output_type": "stream",
     "text": [
      "Accuracy : 0.9575799721835884\n"
     ]
    }
   ],
   "source": [
    "#Linear SVM Classifier\n",
    "lsc = svm.SVC(kernel='linear')\n",
    "lsc.fit(X_train, y_train)\n",
    "lin_y_pred = lsc.predict(X_test)\n",
    "print(\"Accuracy :\", metrics.accuracy_score(y_test, lin_y_pred))"
   ]
  },
  {
   "cell_type": "code",
   "execution_count": 8,
   "id": "156930be-8ffa-4afd-a972-8ec1d1bb0a56",
   "metadata": {},
   "outputs": [
    {
     "name": "stdout",
     "output_type": "stream",
     "text": [
      "Accuracy : 0.9596662030598053\n"
     ]
    }
   ],
   "source": [
    "#Polynominal SVM Classifier\n",
    "\n",
    "psc = svm.SVC(kernel='poly')\n",
    "psc.fit(X_train, y_train)\n",
    "poly_y_pred = psc.predict(X_test)\n",
    "print(\"Accuracy :\", metrics.accuracy_score(y_test, poly_y_pred))"
   ]
  },
  {
   "cell_type": "code",
   "execution_count": 9,
   "id": "89fa2597-7449-415a-9358-dd520363ece3",
   "metadata": {},
   "outputs": [
    {
     "name": "stdout",
     "output_type": "stream",
     "text": [
      "Accuracy : 0.9541029207232267\n"
     ]
    }
   ],
   "source": [
    "rbfsc = svm.SVC(kernel='rbf')\n",
    "rbfsc.fit(X_train, y_train)\n",
    "rbf_y_pred = rbfsc.predict(X_test)\n",
    "print(\"Accuracy :\", metrics.accuracy_score(y_test, rbf_y_pred))"
   ]
  },
  {
   "cell_type": "code",
   "execution_count": null,
   "id": "a15f2be4-009a-40e9-a18c-b19dd399c71a",
   "metadata": {},
   "outputs": [],
   "source": []
  }
 ],
 "metadata": {
  "kernelspec": {
   "display_name": "Python 3 (ipykernel)",
   "language": "python",
   "name": "python3"
  },
  "language_info": {
   "codemirror_mode": {
    "name": "ipython",
    "version": 3
   },
   "file_extension": ".py",
   "mimetype": "text/x-python",
   "name": "python",
   "nbconvert_exporter": "python",
   "pygments_lexer": "ipython3",
   "version": "3.9.7"
  }
 },
 "nbformat": 4,
 "nbformat_minor": 5
}
